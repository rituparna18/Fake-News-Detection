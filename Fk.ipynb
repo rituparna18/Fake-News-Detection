{
 "cells": [
  {
   "cell_type": "code",
   "execution_count": null,
   "metadata": {},
   "outputs": [],
   "source": [
    "import pandas as pd\n",
    "import numpy as np\n",
    "import seaborn as sns\n",
    "import matplotlib.pyplot as plt\n",
    "from sklearn.model_selection import train_test_split\n",
    "from sklearn.metrics import accuracy_score\n",
    "from sklearn.metrics import classification_report\n",
    "from sklearn.metrics import confusion_matrix\n",
    "from sklearn import tree\n",
    "import re\n",
    "import string\n",
    "import os"
   ]
  },
  {
   "cell_type": "code",
   "execution_count": null,
   "metadata": {},
   "outputs": [],
   "source": [
    "data = pd.read_csv(\"./data.csv\")\n",
    "data.head(10)"
   ]
  },
  {
   "cell_type": "code",
   "execution_count": null,
   "metadata": {},
   "outputs": [],
   "source": [
    "def wordopt (text):\n",
    "    text= text.lower()\n",
    "    text= re.sub('\\[.*?\\]','',text)\n",
    "    text= re.sub(\"\\\\W\",\" \", text)\n",
    "    text = re.sub ('https?://\\S+|www\\.\\S+', '', text)\n",
    "    text= re.sub ('<.*?>+','', text)\n",
    "    text= re.sub ('[%s]' % re.escape(string.punctuation),'',text)\n",
    "    text= re.sub('\\n', '', text)\n",
    "    text= re.sub('\\w*\\d\\w*','',text)\n",
    "    return text\n",
    "\n",
    "def getConfusionMatrix(y_test,y_pred):\n",
    "    conf_mat = confusion_matrix(y_test,y_pred)\n",
    "\n",
    "    sns.heatmap(conf_mat, annot=True, fmt=\"d\", cmap=\"Blues\")\n",
    "    plt.xlabel(\"Predicted\")\n",
    "    plt.ylabel(\"True\")\n",
    "    \n",
    "    return plt"
   ]
  },
  {
   "cell_type": "code",
   "execution_count": null,
   "metadata": {},
   "outputs": [],
   "source": [
    "data['text'] = data['text'].apply(wordopt)\n",
    "x=data['text']\n",
    "y=data['class']\n",
    "\n",
    "x_train, x_test, y_train, y_test = train_test_split(x,y, test_size= 0.25)"
   ]
  },
  {
   "cell_type": "code",
   "execution_count": null,
   "metadata": {},
   "outputs": [],
   "source": [
    "from sklearn.feature_extraction.text import TfidfVectorizer\n",
    "\n",
    "vectorization = TfidfVectorizer()\n",
    "xv_train = vectorization.fit_transform(x_train)\n",
    "xv_test = vectorization.transform(x_test)"
   ]
  },
  {
   "cell_type": "code",
   "execution_count": null,
   "metadata": {},
   "outputs": [],
   "source": [
    "from sklearn.linear_model import LogisticRegression\n",
    "LR = LogisticRegression()\n",
    "LR.fit(xv_train, y_train)\n",
    "\n",
    "pred_lr = LR.predict(xv_test)\n",
    "print(LR.score(xv_test, y_test))\n"
   ]
  },
  {
   "cell_type": "code",
   "execution_count": null,
   "metadata": {},
   "outputs": [],
   "source": [
    "plt = getConfusionMatrix(y_test,pred_lr)\n",
    "plt.show()\n",
    "print(classification_report(y_test, pred_lr))"
   ]
  },
  {
   "cell_type": "code",
   "execution_count": null,
   "metadata": {},
   "outputs": [],
   "source": [
    "from sklearn.tree import DecisionTreeClassifier\n",
    "DT = DecisionTreeClassifier()\n",
    "DT.fit(xv_train, y_train)\n",
    "\n",
    "pred_dt = DT.predict(xv_test)\n",
    "print(DT.score(xv_test, y_test))"
   ]
  },
  {
   "cell_type": "code",
   "execution_count": null,
   "metadata": {},
   "outputs": [],
   "source": [
    "plt = getConfusionMatrix(y_test,pred_dt)\n",
    "plt.show()\n",
    "print(classification_report(y_test, pred_dt))"
   ]
  },
  {
   "cell_type": "code",
   "execution_count": null,
   "metadata": {},
   "outputs": [],
   "source": [
    "from sklearn.ensemble import GradientBoostingClassifier\n",
    "GB = GradientBoostingClassifier(random_state = 0)\n",
    "GB.fit(xv_train, y_train)\n",
    "\n",
    "pred_gb = GB.predict(xv_test)\n",
    "print(GB.score(xv_test, y_test))"
   ]
  },
  {
   "cell_type": "code",
   "execution_count": null,
   "metadata": {},
   "outputs": [],
   "source": [
    "plt = getConfusionMatrix(y_test,pred_gb)\n",
    "plt.show()\n",
    "print(classification_report(y_test,pred_gb))"
   ]
  },
  {
   "cell_type": "code",
   "execution_count": null,
   "metadata": {},
   "outputs": [],
   "source": [
    "from sklearn.ensemble import RandomForestClassifier\n",
    "RF = RandomForestClassifier(random_state = 0)\n",
    "RF.fit(xv_train, y_train)\n",
    "\n",
    "pred_rf = RF.predict(xv_test)\n",
    "print(GB.score(xv_test,y_test))\n"
   ]
  },
  {
   "cell_type": "code",
   "execution_count": null,
   "metadata": {},
   "outputs": [],
   "source": [
    "plt = getConfusionMatrix(y_test,pred_rf)\n",
    "plt.show()\n",
    "print(classification_report(y_test,pred_rf))\n"
   ]
  },
  {
   "cell_type": "code",
   "execution_count": null,
   "metadata": {},
   "outputs": [],
   "source": [
    "def output_lable(n):\n",
    "  if n == 0:\n",
    "    return \"Fake News\"\n",
    "  elif n == 1:\n",
    "    return \"Not A Fake News\"\n",
    "def manual_testing(news):\n",
    "  testing_news = {\"text\": [news]}\n",
    "  new_def_test = pd.DataFrame (testing_news)\n",
    "  new_def_test[\"text\"] = new_def_test[\"text\"].apply(wordopt)\n",
    "  new_x_test = new_def_test[\"text\"]\n",
    "  new_xv_test=vectorization. transform(new_x_test)\n",
    "  pred_LR = LR.predict(new_xv_test)\n",
    "  pred_DT = DT.predict(new_xv_test)\n",
    "  pred_GB = GB.predict(new_xv_test)\n",
    "  # pred_RF = RF.predict(new_xv_test)\n",
    "  return print(\"\\n\\nLR Prediction: {} \\nDT Prediction: {} \\nGBC Prediction: {}\".format(output_lable(pred_LR[0]),output_lable(pred_DT[0]),output_lable(pred_GB[0])))"
   ]
  },
  {
   "cell_type": "code",
   "execution_count": null,
   "metadata": {},
   "outputs": [],
   "source": [
    "news=str(input())\n",
    "manual_testing(news)"
   ]
  }
 ],
 "metadata": {
  "language_info": {
   "name": "python"
  }
 },
 "nbformat": 4,
 "nbformat_minor": 2
}
